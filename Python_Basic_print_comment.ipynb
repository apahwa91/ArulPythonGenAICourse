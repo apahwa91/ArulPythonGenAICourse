{
  "nbformat": 4,
  "nbformat_minor": 0,
  "metadata": {
    "colab": {
      "provenance": [],
      "authorship_tag": "ABX9TyOvq93f9RF6xcV55haf5MaK",
      "include_colab_link": true
    },
    "kernelspec": {
      "name": "python3",
      "display_name": "Python 3"
    },
    "language_info": {
      "name": "python"
    }
  },
  "cells": [
    {
      "cell_type": "markdown",
      "metadata": {
        "id": "view-in-github",
        "colab_type": "text"
      },
      "source": [
        "<a href=\"https://colab.research.google.com/github/apahwa91/ArulPythonGenAICourse/blob/main/Python_Basic_print_comment.ipynb\" target=\"_parent\"><img src=\"https://colab.research.google.com/assets/colab-badge.svg\" alt=\"Open In Colab\"/></a>"
      ]
    },
    {
      "cell_type": "code",
      "execution_count": 1,
      "metadata": {
        "colab": {
          "base_uri": "https://localhost:8080/"
        },
        "id": "IV1k_fW91DEl",
        "outputId": "392e94c0-b8f9-481b-f393-3035788ff086"
      },
      "outputs": [
        {
          "output_type": "stream",
          "name": "stdout",
          "text": [
            "Something!\n"
          ]
        }
      ],
      "source": [
        "print(\"Something!\")"
      ]
    },
    {
      "cell_type": "markdown",
      "source": [],
      "metadata": {
        "id": "44Lu_A3O1vFb"
      }
    },
    {
      "cell_type": "code",
      "source": [],
      "metadata": {
        "id": "Tn23YkJ41vde"
      },
      "execution_count": null,
      "outputs": []
    }
  ]
}